{
  "nbformat": 4,
  "nbformat_minor": 0,
  "metadata": {
    "colab": {
      "name": "Copy of 1st DNN_A3.ipynb",
      "version": "0.3.2",
      "provenance": [],
      "collapsed_sections": []
    },
    "kernelspec": {
      "name": "python3",
      "display_name": "Python 3"
    },
    "accelerator": "GPU"
  },
  "cells": [
    {
      "cell_type": "markdown",
      "metadata": {
        "id": "aNyZv-Ec52ot",
        "colab_type": "text"
      },
      "source": [
        "# **Import Libraries and modules**"
      ]
    },
    {
      "cell_type": "code",
      "metadata": {
        "id": "3m3w1Cw49Zkt",
        "colab_type": "code",
        "colab": {}
      },
      "source": [
        "# https://keras.io/\n",
        "!pip install -q keras\n",
        "import keras"
      ],
      "execution_count": 0,
      "outputs": []
    },
    {
      "cell_type": "code",
      "metadata": {
        "id": "Eso6UHE080D4",
        "colab_type": "code",
        "colab": {}
      },
      "source": [
        "import numpy as np\n",
        "\n",
        "from keras.models import Sequential\n",
        "from keras.layers import Dense, Dropout, Activation, Flatten, Add\n",
        "from keras.layers import Convolution2D, MaxPooling2D\n",
        "from keras.utils import np_utils\n",
        "\n",
        "from keras.datasets import mnist"
      ],
      "execution_count": 0,
      "outputs": []
    },
    {
      "cell_type": "markdown",
      "metadata": {
        "id": "zByEi95J86RD",
        "colab_type": "text"
      },
      "source": [
        "### Load pre-shuffled MNIST data into train and test sets"
      ]
    },
    {
      "cell_type": "code",
      "metadata": {
        "id": "7eRM0QWN83PV",
        "colab_type": "code",
        "outputId": "2b64db43-301e-4676-dec1-9802ba16ea2b",
        "colab": {
          "base_uri": "https://localhost:8080/",
          "height": 51
        }
      },
      "source": [
        "(X_train, y_train), (X_test, y_test) = mnist.load_data()"
      ],
      "execution_count": 0,
      "outputs": [
        {
          "output_type": "stream",
          "text": [
            "Downloading data from https://s3.amazonaws.com/img-datasets/mnist.npz\n",
            "11493376/11490434 [==============================] - 1s 0us/step\n"
          ],
          "name": "stdout"
        }
      ]
    },
    {
      "cell_type": "code",
      "metadata": {
        "id": "4a4Be72j8-ZC",
        "colab_type": "code",
        "outputId": "b25083c2-b4ec-4ae3-977a-74ce71866054",
        "colab": {
          "base_uri": "https://localhost:8080/",
          "height": 303
        }
      },
      "source": [
        "print (X_train.shape)  # Provide number of images , height and width (matrix form)\n",
        "from matplotlib import pyplot as plt  #Plotting library in python\n",
        "%matplotlib inline\n",
        "plt.imshow(X_train[0]) # Showing first image"
      ],
      "execution_count": 0,
      "outputs": [
        {
          "output_type": "stream",
          "text": [
            "(60000, 28, 28)\n"
          ],
          "name": "stdout"
        },
        {
          "output_type": "execute_result",
          "data": {
            "text/plain": [
              "<matplotlib.image.AxesImage at 0x7f256d002588>"
            ]
          },
          "metadata": {
            "tags": []
          },
          "execution_count": 6
        },
        {
          "output_type": "display_data",
          "data": {
            "image/png": "[encoded data removed]",
            "text/plain": [
              "<Figure size 432x288 with 1 Axes>"
            ]
          },
          "metadata": {
            "tags": []
          }
        }
      ]
    },
    {
      "cell_type": "code",
      "metadata": {
        "id": "dkmprriw9AnZ",
        "colab_type": "code",
        "colab": {}
      },
      "source": [
        "X_train = X_train.reshape(X_train.shape[0], 28, 28,1)  #converting into array of (60000,28,28,1) where 1 is channel depth (for both X_train , X_test) \n",
        "X_test = X_test.reshape(X_test.shape[0], 28, 28,1)"
      ],
      "execution_count": 0,
      "outputs": []
    },
    {
      "cell_type": "code",
      "metadata": {
        "id": "X2m4YS4E9CRh",
        "colab_type": "code",
        "colab": {}
      },
      "source": [
        "# Converting pixel values in numbers and normalising them to prevent skewness of data points.\n",
        "X_train = X_train.astype('float32')\n",
        "X_test = X_test.astype('float32')\n",
        "X_train /= 255\n",
        "X_test /= 255"
      ],
      "execution_count": 0,
      "outputs": []
    },
    {
      "cell_type": "code",
      "metadata": {
        "id": "0Mn0vAYD9DvB",
        "colab_type": "code",
        "outputId": "5e52115b-8084-456c-fb17-c6509679e435",
        "colab": {
          "base_uri": "https://localhost:8080/",
          "height": 34
        }
      },
      "source": [
        "y_train[:10] #It gives us first 10 labels of first 10 images. "
      ],
      "execution_count": 0,
      "outputs": [
        {
          "output_type": "execute_result",
          "data": {
            "text/plain": [
              "array([5, 0, 4, 1, 9, 2, 1, 3, 1, 4], dtype=uint8)"
            ]
          },
          "metadata": {
            "tags": []
          },
          "execution_count": 11
        }
      ]
    },
    {
      "cell_type": "code",
      "metadata": {
        "id": "ZG8JiXR39FHC",
        "colab_type": "code",
        "colab": {}
      },
      "source": [
        "# Convert 1-dimensional class arrays to 10-dimensional class matrices\n",
        "Y_train = np_utils.to_categorical(y_train, 10)  #one hot encoding of Y_train\n",
        "Y_test = np_utils.to_categorical(y_test, 10)  # same as above for test"
      ],
      "execution_count": 0,
      "outputs": []
    },
    {
      "cell_type": "code",
      "metadata": {
        "id": "fYlFRvKS9HMB",
        "colab_type": "code",
        "outputId": "86414916-5020-4271-ab6d-a5b244be5dc9",
        "colab": {
          "base_uri": "https://localhost:8080/",
          "height": 187
        }
      },
      "source": [
        "Y_train[:10]   #Printing numbers in 10-d form (one hot encoded form)\n"
      ],
      "execution_count": 0,
      "outputs": [
        {
          "output_type": "execute_result",
          "data": {
            "text/plain": [
              "array([[0., 0., 0., 0., 0., 1., 0., 0., 0., 0.],\n",
              "       [1., 0., 0., 0., 0., 0., 0., 0., 0., 0.],\n",
              "       [0., 0., 0., 0., 1., 0., 0., 0., 0., 0.],\n",
              "       [0., 1., 0., 0., 0., 0., 0., 0., 0., 0.],\n",
              "       [0., 0., 0., 0., 0., 0., 0., 0., 0., 1.],\n",
              "       [0., 0., 1., 0., 0., 0., 0., 0., 0., 0.],\n",
              "       [0., 1., 0., 0., 0., 0., 0., 0., 0., 0.],\n",
              "       [0., 0., 0., 1., 0., 0., 0., 0., 0., 0.],\n",
              "       [0., 1., 0., 0., 0., 0., 0., 0., 0., 0.],\n",
              "       [0., 0., 0., 0., 1., 0., 0., 0., 0., 0.]], dtype=float32)"
            ]
          },
          "metadata": {
            "tags": []
          },
          "execution_count": 13
        }
      ]
    },
    {
      "cell_type": "markdown",
      "metadata": {
        "id": "3K3vuKUiwrIt",
        "colab_type": "text"
      },
      "source": [
        "Main Block\n",
        "---------------"
      ]
    },
    {
      "cell_type": "code",
      "metadata": {
        "id": "osKqT73Q9JJB",
        "colab_type": "code",
        "outputId": "3c266a46-e23e-4ed4-9922-aa544c09dfe2",
        "colab": {
          "base_uri": "https://localhost:8080/",
          "height": 71
        }
      },
      "source": [
        "from keras.layers import Activation        \n",
        "model = Sequential()\n",
        "\n",
        "                                                                                  #input_conv   Receptive field output \n",
        "model.add(Convolution2D(32, 3, 3, activation='relu', input_shape=(28,28,1)))         #28x28        3x3           26x26\n",
        "model.add(Convolution2D(10, 1, activation='relu'))                                   #26x26        1x1           26x26 Reducing no of kernels by 1x1 convolution\n",
        "model.add(Convolution2D(10, 26))                                                     #26x26        26x26         1x1  \n",
        "model.add(Flatten())\n",
        "model.add(Activation('softmax'))"
      ],
      "execution_count": 0,
      "outputs": [
        {
          "output_type": "stream",
          "text": [
            "/usr/local/lib/python3.6/dist-packages/ipykernel_launcher.py:5: UserWarning: Update your `Conv2D` call to the Keras 2 API: `Conv2D(32, (3, 3), activation=\"relu\", input_shape=(28, 28, 1...)`\n",
            "  \"\"\"\n"
          ],
          "name": "stderr"
        }
      ]
    },
    {
      "cell_type": "code",
      "metadata": {
        "id": "TzdAYg1k9K7Z",
        "colab_type": "code",
        "outputId": "5432a6f2-5e12-42a2-df42-7ae6a6ad5bae",
        "colab": {
          "base_uri": "https://localhost:8080/",
          "height": 306
        }
      },
      "source": [
        "model.summary()  #Tells about each layer details in terms of (layer type output shape and parameter associated)"
      ],
      "execution_count": 0,
      "outputs": [
        {
          "output_type": "stream",
          "text": [
            "_________________________________________________________________\n",
            "Layer (type)                 Output Shape              Param #   \n",
            "=================================================================\n",
            "conv2d_284 (Conv2D)          (None, 26, 26, 32)        320       \n",
            "_________________________________________________________________\n",
            "conv2d_285 (Conv2D)          (None, 26, 26, 10)        330       \n",
            "_________________________________________________________________\n",
            "conv2d_286 (Conv2D)          (None, 1, 1, 10)          67610     \n",
            "_________________________________________________________________\n",
            "flatten_27 (Flatten)         (None, 10)                0         \n",
            "_________________________________________________________________\n",
            "activation_20 (Activation)   (None, 10)                0         \n",
            "=================================================================\n",
            "Total params: 68,260\n",
            "Trainable params: 68,260\n",
            "Non-trainable params: 0\n",
            "_________________________________________________________________\n"
          ],
          "name": "stdout"
        }
      ]
    },
    {
      "cell_type": "code",
      "metadata": {
        "id": "Zp6SuGrL9M3h",
        "colab_type": "code",
        "colab": {}
      },
      "source": [
        "# Defining the loss function , optimizer for back-prop and result metrics\n",
        "model.compile(loss='categorical_crossentropy',\n",
        "             optimizer='adam',\n",
        "             metrics=['accuracy'])"
      ],
      "execution_count": 0,
      "outputs": []
    },
    {
      "cell_type": "code",
      "metadata": {
        "id": "4xWoKhPY9Of5",
        "colab_type": "code",
        "outputId": "c7ab045a-eae2-432c-ccc3-cb9f72cb5475",
        "colab": {
          "base_uri": "https://localhost:8080/",
          "height": 408
        }
      },
      "source": [
        "model.fit(X_train, Y_train, batch_size=32, nb_epoch=10, verbose=1) #Trains the model with training set , batch size - 32 , no of epoch=10 (1 epoch means 1 pass for all images)"
      ],
      "execution_count": 0,
      "outputs": [
        {
          "output_type": "stream",
          "text": [
            "/usr/local/lib/python3.6/dist-packages/ipykernel_launcher.py:1: UserWarning: The `nb_epoch` argument in `fit` has been renamed `epochs`.\n",
            "  \"\"\"Entry point for launching an IPython kernel.\n"
          ],
          "name": "stderr"
        },
        {
          "output_type": "stream",
          "text": [
            "Epoch 1/10\n",
            "60000/60000 [==============================] - 11s 179us/step - loss: 0.2021 - acc: 0.9405\n",
            "Epoch 2/10\n",
            "60000/60000 [==============================] - 9s 146us/step - loss: 0.0719 - acc: 0.9785\n",
            "Epoch 3/10\n",
            "60000/60000 [==============================] - 9s 145us/step - loss: 0.0523 - acc: 0.9835\n",
            "Epoch 4/10\n",
            "60000/60000 [==============================] - 9s 144us/step - loss: 0.0421 - acc: 0.9865\n",
            "Epoch 5/10\n",
            "60000/60000 [==============================] - 9s 146us/step - loss: 0.0347 - acc: 0.9887\n",
            "Epoch 6/10\n",
            "60000/60000 [==============================] - 10s 163us/step - loss: 0.0306 - acc: 0.9897\n",
            "Epoch 7/10\n",
            "60000/60000 [==============================] - 9s 154us/step - loss: 0.0247 - acc: 0.9919\n",
            "Epoch 8/10\n",
            "60000/60000 [==============================] - 9s 144us/step - loss: 0.0217 - acc: 0.9925\n",
            "Epoch 9/10\n",
            "60000/60000 [==============================] - 9s 144us/step - loss: 0.0179 - acc: 0.9941\n",
            "Epoch 10/10\n",
            "60000/60000 [==============================] - 9s 156us/step - loss: 0.0152 - acc: 0.9950\n"
          ],
          "name": "stdout"
        },
        {
          "output_type": "execute_result",
          "data": {
            "text/plain": [
              "<keras.callbacks.History at 0x7fafe083f320>"
            ]
          },
          "metadata": {
            "tags": []
          },
          "execution_count": 143
        }
      ]
    },
    {
      "cell_type": "code",
      "metadata": {
        "id": "AtsH-lLk-eLb",
        "colab_type": "code",
        "colab": {}
      },
      "source": [
        "score = model.evaluate(X_test, Y_test, verbose=0) # validates the model on testing set using evaluate function"
      ],
      "execution_count": 0,
      "outputs": []
    },
    {
      "cell_type": "code",
      "metadata": {
        "id": "mkX8JMv79q9r",
        "colab_type": "code",
        "outputId": "db1fc1a3-1587-45dd-99c8-488d07d07a8c",
        "colab": {
          "base_uri": "https://localhost:8080/",
          "height": 34
        }
      },
      "source": [
        "print(score) # prints loss and accuracy"
      ],
      "execution_count": 0,
      "outputs": [
        {
          "output_type": "stream",
          "text": [
            "[0.08364548649995031, 0.9793]\n"
          ],
          "name": "stdout"
        }
      ]
    },
    {
      "cell_type": "code",
      "metadata": {
        "id": "OCWoJkwE9suh",
        "colab_type": "code",
        "colab": {}
      },
      "source": [
        "y_pred = model.predict(X_test)  # Generates output predictions for the input samples"
      ],
      "execution_count": 0,
      "outputs": []
    },
    {
      "cell_type": "code",
      "metadata": {
        "id": "Ym7iCFBm9uBs",
        "colab_type": "code",
        "outputId": "243ade21-4690-470f-8186-16dd297e1af5",
        "colab": {
          "base_uri": "https://localhost:8080/",
          "height": 340
        }
      },
      "source": [
        "print(y_pred[:9]) #list 1st 10 predictions(one hot form)  \n",
        "print(y_test[:9]) #list 1st 10 labels"
      ],
      "execution_count": 0,
      "outputs": [
        {
          "output_type": "stream",
          "text": [
            "[[1.2133114e-19 1.3583201e-20 6.4380229e-13 2.1165013e-07 8.5469051e-21\n",
            "  1.7904686e-15 7.3866790e-32 9.9999976e-01 3.9000202e-13 3.0564024e-08]\n",
            " [8.4174889e-12 3.7776752e-12 1.0000000e+00 3.6231384e-14 3.8212083e-26\n",
            "  5.2223414e-16 2.8134932e-09 1.3938068e-23 2.9285398e-13 5.0986274e-22]\n",
            " [4.4067658e-08 9.9997175e-01 2.4098522e-06 2.5281262e-09 1.7942837e-05\n",
            "  5.5753241e-10 1.1153100e-09 9.7106715e-07 6.8652389e-06 2.1589107e-08]\n",
            " [1.0000000e+00 3.0636291e-19 6.7600125e-10 1.4583525e-16 1.8606249e-19\n",
            "  2.8861465e-13 1.1144058e-09 1.1387901e-12 1.6762212e-12 1.8395352e-10]\n",
            " [3.0342785e-15 2.4567825e-16 1.1579256e-13 1.0995107e-12 9.9999976e-01\n",
            "  1.4280339e-18 1.9879730e-13 7.2346304e-12 6.9134830e-11 2.8848117e-07]\n",
            " [1.4877515e-12 9.9993706e-01 1.0509312e-08 2.0460713e-11 1.6244406e-06\n",
            "  9.2738812e-14 1.5381777e-13 5.7033289e-05 4.2388410e-06 3.5962156e-08]\n",
            " [1.5272254e-17 1.1777043e-13 3.4836422e-08 3.1230647e-14 9.7975278e-01\n",
            "  4.7425561e-09 2.1203759e-16 1.8776539e-08 1.9921420e-02 3.2581924e-04]\n",
            " [2.2916600e-23 4.6350691e-11 1.7042361e-11 2.0886565e-10 3.5450336e-07\n",
            "  1.1656842e-08 6.6886688e-19 3.5109632e-13 9.8294226e-09 9.9999964e-01]\n",
            " [6.5151932e-11 1.5098555e-24 1.8656165e-18 7.3331437e-14 1.3691390e-13\n",
            "  7.6208092e-02 9.2379171e-01 1.5986112e-24 2.2519214e-07 2.6260838e-10]]\n",
            "[7 2 1 0 4 1 4 9 5]\n"
          ],
          "name": "stdout"
        }
      ]
    },
    {
      "cell_type": "code",
      "metadata": {
        "id": "CT--y98_dr2T",
        "colab_type": "code",
        "colab": {}
      },
      "source": [
        "layer_dict = dict([(layer.name, layer) for layer in model.layers])  #Initialized a dictionary and checking each layer."
      ],
      "execution_count": 0,
      "outputs": []
    },
    {
      "cell_type": "markdown",
      "metadata": {
        "id": "-7xV4UPIz6yI",
        "colab_type": "text"
      },
      "source": [
        "Block to represent graphical from of filter/convolution happened on mentioned layer -:"
      ]
    },
    {
      "cell_type": "code",
      "metadata": {
        "id": "2GY4Upv4dsUR",
        "colab_type": "code",
        "outputId": "c4f506ec-3970-4dca-cb23-a54611bdc045",
        "colab": {
          "base_uri": "https://localhost:8080/",
          "height": 837
        }
      },
      "source": [
        "import numpy as np\n",
        "from matplotlib import pyplot as plt\n",
        "from keras import backend as K\n",
        "%matplotlib inline\n",
        "# util function to convert a tensor into a valid image\n",
        "def deprocess_image(x):\n",
        "    # normalize tensor: center on 0., ensure std is 0.1\n",
        "    x -= x.mean()\n",
        "    x /= (x.std() + 1e-5)\n",
        "    x *= 0.1\n",
        "\n",
        "    # clip to [0, 1]\n",
        "    x += 0.5\n",
        "    x = np.clip(x, 0, 1)\n",
        "\n",
        "    # convert to RGB array\n",
        "    x *= 255\n",
        "    #x = x.transpose((1, 2, 0))\n",
        "    x = np.clip(x, 0, 255).astype('uint8')\n",
        "    return x\n",
        "\n",
        "def vis_img_in_filter(img = np.array(X_train[2]).reshape((1, 28, 28, 1)).astype(np.float64), \n",
        "                      layer_name = 'conv2d_284'):\n",
        "    layer_output = layer_dict[layer_name].output\n",
        "    img_ascs = list()\n",
        "    for filter_index in range(layer_output.shape[3]):\n",
        "        # build a loss function that maximizes the activation\n",
        "        # of the nth filter of the layer considered\n",
        "        loss = K.mean(layer_output[:, :, :, filter_index])\n",
        "\n",
        "        # compute the gradient of the input picture wrt this loss\n",
        "        grads = K.gradients(loss, model.input)[0]\n",
        "\n",
        "        # normalization trick: we normalize the gradient\n",
        "        grads /= (K.sqrt(K.mean(K.square(grads))) + 1e-5)\n",
        "\n",
        "        # this function returns the loss and grads given the input picture\n",
        "        iterate = K.function([model.input], [loss, grads])\n",
        "\n",
        "        # step size for gradient ascent\n",
        "        step = 5.\n",
        "\n",
        "        img_asc = np.array(img)\n",
        "        # run gradient ascent for 20 steps\n",
        "        for i in range(20):\n",
        "            loss_value, grads_value = iterate([img_asc])\n",
        "            img_asc += grads_value * step\n",
        "\n",
        "        img_asc = img_asc[0]\n",
        "        img_ascs.append(deprocess_image(img_asc).reshape((28, 28)))\n",
        "        \n",
        "    if layer_output.shape[3] >= 35:\n",
        "        plot_x, plot_y = 6, 6\n",
        "    elif layer_output.shape[3] >= 23:\n",
        "        plot_x, plot_y = 4, 6\n",
        "    elif layer_output.shape[3] >= 11:\n",
        "        plot_x, plot_y = 2, 6\n",
        "    else:\n",
        "        plot_x, plot_y = 1, 2\n",
        "    fig, ax = plt.subplots(plot_x, plot_y, figsize = (12, 12))\n",
        "    ax[0, 0].imshow(img.reshape((28, 28)), cmap = 'gray')\n",
        "    ax[0, 0].set_title('Input image')\n",
        "    fig.suptitle('Input image and %s filters' % (layer_name,))\n",
        "    fig.tight_layout(pad = 0.3, rect = [0, 0, 0.9, 0.9])\n",
        "    for (x, y) in [(i, j) for i in range(plot_x) for j in range(plot_y)]:\n",
        "        if x == 0 and y == 0:\n",
        "            continue\n",
        "        ax[x, y].imshow(img_ascs[x * plot_y + y - 1], cmap = 'gray')\n",
        "        ax[x, y].set_title('filter %d' % (x * plot_y + y - 1))\n",
        "\n",
        "vis_img_in_filter()"
      ],
      "execution_count": 0,
      "outputs": [
        {
          "output_type": "display_data",
          "data": {
            "image/png": "[encoded data removed]",
            "text/plain": [
              "<Figure size 864x864 with 24 Axes>"
            ]
          },
          "metadata": {
            "tags": []
          }
        }
      ]
    },
    {
      "cell_type": "markdown",
      "metadata": {
        "id": "Up1jUSf_TXHf",
        "colab_type": "text"
      },
      "source": [
        "#Modified Networks"
      ]
    },
    {
      "cell_type": "markdown",
      "metadata": {
        "id": "uLeHT4mJ1mm0",
        "colab_type": "text"
      },
      "source": [
        "Part 1 - Model1 checking accuravy without any dropout and Batch Normalization technique"
      ]
    },
    {
      "cell_type": "code",
      "metadata": {
        "id": "9tvptcn8dxvp",
        "colab_type": "code",
        "outputId": "bc3f3cf7-6bf5-4fe4-d3fa-93fef1ac0085",
        "colab": {
          "base_uri": "https://localhost:8080/",
          "height": 326
        }
      },
      "source": [
        "#from keras.layers.normalization import BatchNormalization\n",
        "from keras.layers import Activation\n",
        "model1 = Sequential()\n",
        "\n",
        "#keras.layers.normalization.BatchNormalization(epsilon=1e-06, mode=0, momentum=0.9, weights=None) \n",
        "                                                                                  #input - conv - receptive feild\n",
        "                                                                                  #input_conv|Receptive Field|output  \n",
        "\n",
        "model1.add(Convolution2D(5, 3, 3, activation='relu', input_shape=(28,28,1)))      #28x28 |3x3|26x26  \n",
        "model1.add(Convolution2D(10, 3, 3, activation='relu'))                            #26x26 |5x5|24x24  \n",
        "model1.add(Convolution2D(20, 3, 3, activation='relu'))                            #24x24 |7x7|22x22\n",
        "model1.add(MaxPooling2D(pool_size=(2,2)))                                         #      |14x14|11x11    \n",
        "model1.add(Convolution2D(5, 1, activation='relu'))                                #11x11 |14x14|11x11 \n",
        "model1.add(Convolution2D(10,3,3, activation='relu'))                              #11x11 |16x16|9x9 \n",
        "model1.add(Convolution2D(22,3,3, activation='relu'))                              #9x9   |18x18|7x7                  \n",
        "model1.add(Convolution2D(25,3,3,activation='relu'))                               #7x7   |20x20|5x5\n",
        "model1.add(Convolution2D(30,3,3,activation='relu'))                               #5x5   |22x22|3x3\n",
        "#model1.add(Convolution2D(10,3,3,activation='relu'))                              #3x3   |24x24|1x1 \n",
        "model1.add(Convolution2D(10,3))\n",
        "#model1.add(Dropout(0.2))\n",
        "#sgd = SGD(lr=0.01, momentum=0.8, decay=0.0, nesterov=False)\n",
        "#model.add(Convolution2D(10, 26))\n",
        "model1.add(Flatten())\n",
        "model1.add(Activation('softmax'))"
      ],
      "execution_count": 0,
      "outputs": [
        {
          "output_type": "stream",
          "text": [
            "WARNING:tensorflow:From /usr/local/lib/python3.6/dist-packages/tensorflow/python/framework/op_def_library.py:263: colocate_with (from tensorflow.python.framework.ops) is deprecated and will be removed in a future version.\n",
            "Instructions for updating:\n",
            "Colocations handled automatically by placer.\n"
          ],
          "name": "stdout"
        },
        {
          "output_type": "stream",
          "text": [
            "/usr/local/lib/python3.6/dist-packages/ipykernel_launcher.py:7: UserWarning: Update your `Conv2D` call to the Keras 2 API: `Conv2D(5, (3, 3), activation=\"relu\", input_shape=(28, 28, 1...)`\n",
            "  import sys\n",
            "/usr/local/lib/python3.6/dist-packages/ipykernel_launcher.py:8: UserWarning: Update your `Conv2D` call to the Keras 2 API: `Conv2D(10, (3, 3), activation=\"relu\")`\n",
            "  \n",
            "/usr/local/lib/python3.6/dist-packages/ipykernel_launcher.py:9: UserWarning: Update your `Conv2D` call to the Keras 2 API: `Conv2D(20, (3, 3), activation=\"relu\")`\n",
            "  if __name__ == '__main__':\n",
            "/usr/local/lib/python3.6/dist-packages/ipykernel_launcher.py:12: UserWarning: Update your `Conv2D` call to the Keras 2 API: `Conv2D(10, (3, 3), activation=\"relu\")`\n",
            "  if sys.path[0] == '':\n",
            "/usr/local/lib/python3.6/dist-packages/ipykernel_launcher.py:13: UserWarning: Update your `Conv2D` call to the Keras 2 API: `Conv2D(22, (3, 3), activation=\"relu\")`\n",
            "  del sys.path[0]\n",
            "/usr/local/lib/python3.6/dist-packages/ipykernel_launcher.py:14: UserWarning: Update your `Conv2D` call to the Keras 2 API: `Conv2D(25, (3, 3), activation=\"relu\")`\n",
            "  \n",
            "/usr/local/lib/python3.6/dist-packages/ipykernel_launcher.py:15: UserWarning: Update your `Conv2D` call to the Keras 2 API: `Conv2D(30, (3, 3), activation=\"relu\")`\n",
            "  from ipykernel import kernelapp as app\n"
          ],
          "name": "stderr"
        }
      ]
    },
    {
      "cell_type": "code",
      "metadata": {
        "id": "YKgulljNnEw3",
        "colab_type": "code",
        "colab": {}
      },
      "source": [
        "model1.build()"
      ],
      "execution_count": 0,
      "outputs": []
    },
    {
      "cell_type": "code",
      "metadata": {
        "id": "RpTkgJzkmsPg",
        "colab_type": "code",
        "outputId": "4e844ea0-9989-467a-ba22-65fa814c2321",
        "colab": {
          "base_uri": "https://localhost:8080/",
          "height": 544
        }
      },
      "source": [
        "model1.summary()"
      ],
      "execution_count": 0,
      "outputs": [
        {
          "output_type": "stream",
          "text": [
            "_________________________________________________________________\n",
            "Layer (type)                 Output Shape              Param #   \n",
            "=================================================================\n",
            "conv2d_221 (Conv2D)          (None, 26, 26, 5)         50        \n",
            "_________________________________________________________________\n",
            "conv2d_222 (Conv2D)          (None, 24, 24, 10)        460       \n",
            "_________________________________________________________________\n",
            "conv2d_223 (Conv2D)          (None, 22, 22, 20)        1820      \n",
            "_________________________________________________________________\n",
            "max_pooling2d_33 (MaxPooling (None, 11, 11, 20)        0         \n",
            "_________________________________________________________________\n",
            "conv2d_224 (Conv2D)          (None, 11, 11, 5)         105       \n",
            "_________________________________________________________________\n",
            "conv2d_225 (Conv2D)          (None, 9, 9, 10)          460       \n",
            "_________________________________________________________________\n",
            "conv2d_226 (Conv2D)          (None, 7, 7, 22)          2002      \n",
            "_________________________________________________________________\n",
            "conv2d_227 (Conv2D)          (None, 5, 5, 25)          4975      \n",
            "_________________________________________________________________\n",
            "conv2d_228 (Conv2D)          (None, 3, 3, 30)          6780      \n",
            "_________________________________________________________________\n",
            "conv2d_229 (Conv2D)          (None, 1, 1, 10)          2710      \n",
            "_________________________________________________________________\n",
            "flatten_22 (Flatten)         (None, 10)                0         \n",
            "_________________________________________________________________\n",
            "activation_15 (Activation)   (None, 10)                0         \n",
            "=================================================================\n",
            "Total params: 19,362\n",
            "Trainable params: 19,362\n",
            "Non-trainable params: 0\n",
            "_________________________________________________________________\n"
          ],
          "name": "stdout"
        }
      ]
    },
    {
      "cell_type": "markdown",
      "metadata": {
        "id": "iDNVpnk1-Xpl",
        "colab_type": "text"
      },
      "source": [
        "Trial Variations "
      ]
    },
    {
      "cell_type": "code",
      "metadata": {
        "id": "bzNt8aFYe57a",
        "colab_type": "code",
        "colab": {}
      },
      "source": [
        "#from keras.layers import Activation\n",
        "#model1 = Sequential()\n",
        "\n",
        "        #-----------Tried Parameter execeded----------                                                                           #input - conv - receptive feild\n",
        "#model1.add(Convolution2D(32, 3, 3, activation='relu', input_shape=(28,28,1)))      #28x28 -3x3 -26x26  \n",
        "#model1.add(Convolution2D(64, 3, 3, activation='relu'))                             #26x26 - 5x5 - 24x24  \n",
        "#model1.add(Convolution2D(128, 3, 3, activation='relu'))                            #24x24 - 7x7 -22x22\n",
        "#model1.add(MaxPooling2D(pool_size=(2,2)))                                         \n",
        "#model1.add(Convolution2D(10, 1, activation='relu'))                                #11x11 -  14x14 \n",
        "#model1.add(Convolution2D(20,3,3, activation='relu'))                                #11x11  16x16 \n",
        "#model1.add(Convolution2D(40,3,3, activation='relu'))                                #9x9  18x18                  \n",
        "#model1.add(Convolution2D(60,3,3,activation='relu'))                                #7x7 -    20x20\n",
        "#model1.add(Convolution2D(80,3,3,activation='relu'))                                #5x5 -    22x22\n",
        "#model1.add(Convolution2D(10,3,3,activation='relu'))\n",
        "#model1.add(Convolution2D(10,11))\n",
        "#model1.add(Convolution2D(10, 26))\n",
        "#model.add(Flatten())\n",
        "#model.add(Activation('softmax'))\n",
        "#------------------------------------------------\n",
        "#-----------------------2x2 instead of 1x1 at last layer came , accuracy was very low around 65%-----------------\n",
        "#from keras.layers import Activation\n",
        "#model1 = Sequential()\n",
        "\n",
        "                                                                                   #input - conv - receptive feild\n",
        "#model1.add(Convolution2D(32, 3, 3, activation='relu', input_shape=(28,28,1)))      #28x28 -3x3 -26x26  \n",
        "#model1.add(Convolution2D(64, 3, 3, activation='relu'))                             #26x26 - 5x5 - 24x24  \n",
        "#model1.add(Convolution2D(10, 1, activation='relu'))                                #24x24 - 5x5 \n",
        "#model1.add(MaxPooling2D(pool_size=(2,2)))                                          #       10x10 \n",
        "#model1.add(Convolution2D(10, 3, 3, activation='relu'))                                #12x12  12x12 \n",
        "#model1.add(Convolution2D(20, 3, 3, activation='relu'))                                #10x10  14x14\n",
        "#model1.add(Convolution2D(10, 1, activation='relu'))                                #8x8 -  14x14 \n",
        "#model1.add(MaxPooling2D(pool_size=(2,2)))                                          #         28x28\n",
        "#model1.add(Convolution2D(10, 3, 3, activation='relu'))                                #4x4 -    30x30\n",
        "#model1.add(Convolution2D(10, 2, 2, activation='relu'))                                #2x2 -    32x32\n",
        "#model1.add(Convolution2D(5,3))\n",
        "#model.add(Convolution2D(10, 26))\n",
        "#model1.add(Flatten())\n",
        "#model1.add(Activation('softmax'))\n",
        "#Tried sample variation"
      ],
      "execution_count": 0,
      "outputs": []
    },
    {
      "cell_type": "code",
      "metadata": {
        "id": "_bTUs1ahzEqI",
        "colab_type": "code",
        "colab": {}
      },
      "source": [
        "#model.summary()"
      ],
      "execution_count": 0,
      "outputs": []
    },
    {
      "cell_type": "code",
      "metadata": {
        "id": "uon7Y47RzE13",
        "colab_type": "code",
        "colab": {}
      },
      "source": [
        "model1.compile(loss='categorical_crossentropy',\n",
        "             optimizer='adam',\n",
        "             metrics=['accuracy'])"
      ],
      "execution_count": 0,
      "outputs": []
    },
    {
      "cell_type": "code",
      "metadata": {
        "id": "CKIJ_oXVzE7O",
        "colab_type": "code",
        "outputId": "5957ed44-e45c-4486-fd5e-3d404b11e628",
        "colab": {
          "base_uri": "https://localhost:8080/",
          "height": 748
        }
      },
      "source": [
        "model1.fit(X_train, Y_train, batch_size=32, nb_epoch=20, verbose=1)"
      ],
      "execution_count": 0,
      "outputs": [
        {
          "output_type": "stream",
          "text": [
            "/usr/local/lib/python3.6/dist-packages/ipykernel_launcher.py:1: UserWarning: The `nb_epoch` argument in `fit` has been renamed `epochs`.\n",
            "  \"\"\"Entry point for launching an IPython kernel.\n"
          ],
          "name": "stderr"
        },
        {
          "output_type": "stream",
          "text": [
            "Epoch 1/20\n",
            "60000/60000 [==============================] - 14s 233us/step - loss: 0.2207 - acc: 0.9313\n",
            "Epoch 2/20\n",
            "60000/60000 [==============================] - 13s 216us/step - loss: 0.0779 - acc: 0.9761\n",
            "Epoch 3/20\n",
            "60000/60000 [==============================] - 13s 216us/step - loss: 0.0585 - acc: 0.9816\n",
            "Epoch 4/20\n",
            "60000/60000 [==============================] - 14s 230us/step - loss: 0.0498 - acc: 0.9849\n",
            "Epoch 5/20\n",
            "60000/60000 [==============================] - 13s 218us/step - loss: 0.0401 - acc: 0.9872\n",
            "Epoch 6/20\n",
            "60000/60000 [==============================] - 13s 213us/step - loss: 0.0356 - acc: 0.9887\n",
            "Epoch 7/20\n",
            "60000/60000 [==============================] - 13s 213us/step - loss: 0.0298 - acc: 0.9899\n",
            "Epoch 8/20\n",
            "60000/60000 [==============================] - 13s 212us/step - loss: 0.0282 - acc: 0.9907\n",
            "Epoch 9/20\n",
            "60000/60000 [==============================] - 13s 212us/step - loss: 0.0248 - acc: 0.9920\n",
            "Epoch 10/20\n",
            "60000/60000 [==============================] - 13s 224us/step - loss: 0.0215 - acc: 0.9925\n",
            "Epoch 11/20\n",
            "60000/60000 [==============================] - 13s 222us/step - loss: 0.0198 - acc: 0.9938\n",
            "Epoch 12/20\n",
            "60000/60000 [==============================] - 13s 213us/step - loss: 0.0179 - acc: 0.9941\n",
            "Epoch 13/20\n",
            "60000/60000 [==============================] - 13s 212us/step - loss: 0.0174 - acc: 0.9941\n",
            "Epoch 14/20\n",
            "60000/60000 [==============================] - 13s 212us/step - loss: 0.0173 - acc: 0.9942\n",
            "Epoch 15/20\n",
            "60000/60000 [==============================] - 13s 212us/step - loss: 0.0152 - acc: 0.9947\n",
            "Epoch 16/20\n",
            "60000/60000 [==============================] - 13s 217us/step - loss: 0.0149 - acc: 0.9953\n",
            "Epoch 17/20\n",
            "60000/60000 [==============================] - 14s 228us/step - loss: 0.0133 - acc: 0.9955\n",
            "Epoch 18/20\n",
            "60000/60000 [==============================] - 13s 212us/step - loss: 0.0125 - acc: 0.9958\n",
            "Epoch 19/20\n",
            "60000/60000 [==============================] - 13s 213us/step - loss: 0.0138 - acc: 0.9955\n",
            "Epoch 20/20\n",
            "60000/60000 [==============================] - 13s 213us/step - loss: 0.0111 - acc: 0.9964\n"
          ],
          "name": "stdout"
        },
        {
          "output_type": "execute_result",
          "data": {
            "text/plain": [
              "<keras.callbacks.History at 0x7fafead690f0>"
            ]
          },
          "metadata": {
            "tags": []
          },
          "execution_count": 94
        }
      ]
    },
    {
      "cell_type": "code",
      "metadata": {
        "id": "Ovw01pafzFAl",
        "colab_type": "code",
        "colab": {}
      },
      "source": [
        "score = model1.evaluate(X_test, Y_test, verbose=0)"
      ],
      "execution_count": 0,
      "outputs": []
    },
    {
      "cell_type": "code",
      "metadata": {
        "id": "He3tJHyYzFFi",
        "colab_type": "code",
        "outputId": "53b35985-2260-4744-9da4-c16d740cd0ca",
        "colab": {
          "base_uri": "https://localhost:8080/",
          "height": 34
        }
      },
      "source": [
        "print(score)"
      ],
      "execution_count": 0,
      "outputs": [
        {
          "output_type": "stream",
          "text": [
            "[0.03638650634760547, 0.9907]\n"
          ],
          "name": "stdout"
        }
      ]
    },
    {
      "cell_type": "code",
      "metadata": {
        "id": "vgmFxFJzzFM-",
        "colab_type": "code",
        "colab": {}
      },
      "source": [
        "y_pred = model1.predict(X_test)"
      ],
      "execution_count": 0,
      "outputs": []
    },
    {
      "cell_type": "code",
      "metadata": {
        "id": "6IYEXJNnzFTY",
        "colab_type": "code",
        "outputId": "e2cd3b5d-8fa3-4db4-981e-d0ea623a39b3",
        "colab": {
          "base_uri": "https://localhost:8080/",
          "height": 493
        }
      },
      "source": [
        "print(y_pred[:9])\n",
        "print(y_test[:9])"
      ],
      "execution_count": 0,
      "outputs": [
        {
          "output_type": "stream",
          "text": [
            "[[2.12446616e-06 3.74811397e-11 4.14943952e-06 4.81040333e-05\n",
            "  1.18562333e-08 1.99425116e-07 9.33889164e-12 9.99931216e-01\n",
            "  3.88528008e-07 1.38186242e-05]\n",
            " [8.90441646e-04 1.93377564e-05 9.97338712e-01 1.37870113e-04\n",
            "  1.15538856e-09 3.06239417e-05 1.45856128e-03 1.14657491e-12\n",
            "  1.24411148e-04 1.47824863e-10]\n",
            " [5.79902735e-05 9.89100635e-01 4.03838651e-03 2.73520331e-04\n",
            "  1.35967019e-03 2.48852830e-05 5.49460994e-04 1.06820313e-03\n",
            "  3.47478571e-03 5.25410542e-05]\n",
            " [9.99909759e-01 4.60730976e-12 5.12075312e-05 1.10644760e-06\n",
            "  3.75012732e-08 1.20887407e-05 1.46138927e-05 5.16892169e-06\n",
            "  3.16331375e-06 2.77637992e-06]\n",
            " [3.90424160e-04 4.14398791e-08 1.78598915e-04 2.88322935e-05\n",
            "  9.91192043e-01 1.47151013e-05 3.15624275e-05 1.40132103e-03\n",
            "  2.84981681e-04 6.47739694e-03]\n",
            " [2.27962155e-05 9.87661123e-01 2.04084185e-03 3.24473454e-04\n",
            "  3.54505144e-04 5.20420781e-06 5.78109721e-05 3.91793577e-03\n",
            "  5.41214272e-03 2.03045071e-04]\n",
            " [3.65198821e-06 4.83148642e-06 7.26789676e-06 2.27818691e-05\n",
            "  9.77714896e-01 2.77939689e-04 1.04510891e-05 3.66606138e-04\n",
            "  1.36982696e-02 7.89328106e-03]\n",
            " [1.01190345e-07 7.80204718e-05 1.04249797e-04 3.74033203e-04\n",
            "  8.44657049e-03 4.35630605e-03 5.28986038e-06 8.99594961e-05\n",
            "  2.19006208e-03 9.84355330e-01]\n",
            " [2.38518813e-04 3.82173454e-07 1.48099347e-03 5.06153901e-06\n",
            "  5.39315981e-04 5.76037705e-01 4.09149110e-01 2.83038133e-07\n",
            "  1.24817165e-02 6.69330184e-05]]\n",
            "[7 2 1 0 4 1 4 9 5]\n"
          ],
          "name": "stdout"
        }
      ]
    },
    {
      "cell_type": "markdown",
      "metadata": {
        "id": "Sb4HKzj91x44",
        "colab_type": "text"
      },
      "source": [
        "Part 2 - Model_1 Checking score with Dropout added(Assumed overfitting occued in above model) "
      ]
    },
    {
      "cell_type": "code",
      "metadata": {
        "id": "340qsWjcKfKM",
        "colab_type": "code",
        "outputId": "0a8d6f12-9bce-483d-8fb5-b07ba9006360",
        "colab": {
          "base_uri": "https://localhost:8080/",
          "height": 224
        }
      },
      "source": [
        "#from keras.layers.normalization import BatchNormalization\n",
        "from keras.layers import Activation\n",
        "model_1 = Sequential()\n",
        "\n",
        "#keras.layers.normalization.BatchNormalization(epsilon=1e-06, mode=0, momentum=0.9, weights=None) #input - conv - receptive feild\n",
        "\n",
        "\n",
        "model_1.add(Convolution2D(5, 3, 3, activation='relu', input_shape=(28,28,1)))      #28x28 -3x3 -26x26  \n",
        "model_1.add(Dropout(0.2))\n",
        "model_1.add(Convolution2D(10, 3, 3, activation='relu'))                             #26x26 - 5x5 - 24x24  \n",
        "model_1.add(Dropout(0.2))\n",
        "model_1.add(Convolution2D(20, 3, 3, activation='relu'))                            #24x24 - 7x7 -22x22\n",
        "model_1.add(MaxPooling2D(pool_size=(2,2)))                                         \n",
        "model_1.add(Convolution2D(5, 1, activation='relu'))                                #11x11 -  14x14 \n",
        "model_1.add(Dropout(0.2))\n",
        "model_1.add(Convolution2D(10,3,3, activation='relu'))                                #11x11  16x16 \n",
        "model_1.add(Dropout(0.2))\n",
        "model_1.add(Convolution2D(22,3,3, activation='relu'))                                #9x9  18x18 \n",
        "model_1.add(Dropout(0.2))\n",
        "model_1.add(Convolution2D(25,3,3,activation='relu'))                                #7x7 -    20x20\n",
        "model_1.add(Dropout(0.2))\n",
        "model_1.add(Convolution2D(30,3,3,activation='relu'))                                #5x5 -    22x22\n",
        "model_1.add(Dropout(0.2))\n",
        "#model1.add(Convolution2D(10,3,3,activation='relu'))\n",
        "model_1.add(Convolution2D(10,3))\n",
        "model_1.add(Dropout(0.2))\n",
        "#sgd = SGD(lr=0.01, momentum=0.8, decay=0.0, nesterov=False)\n",
        "#model.add(Convolution2D(10, 26))\n",
        "model_1.add(Flatten())\n",
        "model_1.add(Activation('softmax'))"
      ],
      "execution_count": 0,
      "outputs": [
        {
          "output_type": "stream",
          "text": [
            "/usr/local/lib/python3.6/dist-packages/ipykernel_launcher.py:7: UserWarning: Update your `Conv2D` call to the Keras 2 API: `Conv2D(5, (3, 3), activation=\"relu\", input_shape=(28, 28, 1...)`\n",
            "  import sys\n",
            "/usr/local/lib/python3.6/dist-packages/ipykernel_launcher.py:9: UserWarning: Update your `Conv2D` call to the Keras 2 API: `Conv2D(10, (3, 3), activation=\"relu\")`\n",
            "  if __name__ == '__main__':\n",
            "/usr/local/lib/python3.6/dist-packages/ipykernel_launcher.py:11: UserWarning: Update your `Conv2D` call to the Keras 2 API: `Conv2D(20, (3, 3), activation=\"relu\")`\n",
            "  # This is added back by InteractiveShellApp.init_path()\n",
            "/usr/local/lib/python3.6/dist-packages/ipykernel_launcher.py:15: UserWarning: Update your `Conv2D` call to the Keras 2 API: `Conv2D(10, (3, 3), activation=\"relu\")`\n",
            "  from ipykernel import kernelapp as app\n",
            "/usr/local/lib/python3.6/dist-packages/ipykernel_launcher.py:17: UserWarning: Update your `Conv2D` call to the Keras 2 API: `Conv2D(22, (3, 3), activation=\"relu\")`\n",
            "/usr/local/lib/python3.6/dist-packages/ipykernel_launcher.py:19: UserWarning: Update your `Conv2D` call to the Keras 2 API: `Conv2D(25, (3, 3), activation=\"relu\")`\n",
            "/usr/local/lib/python3.6/dist-packages/ipykernel_launcher.py:21: UserWarning: Update your `Conv2D` call to the Keras 2 API: `Conv2D(30, (3, 3), activation=\"relu\")`\n"
          ],
          "name": "stderr"
        }
      ]
    },
    {
      "cell_type": "code",
      "metadata": {
        "id": "FKSc7s5FKgLx",
        "colab_type": "code",
        "colab": {}
      },
      "source": [
        "model_1.build()"
      ],
      "execution_count": 0,
      "outputs": []
    },
    {
      "cell_type": "code",
      "metadata": {
        "id": "SmHUOFNuKgXc",
        "colab_type": "code",
        "outputId": "366e2210-d5e7-4150-b2e3-b89ddeb1bf22",
        "colab": {
          "base_uri": "https://localhost:8080/",
          "height": 816
        }
      },
      "source": [
        "model_1.summary()"
      ],
      "execution_count": 0,
      "outputs": [
        {
          "output_type": "stream",
          "text": [
            "_________________________________________________________________\n",
            "Layer (type)                 Output Shape              Param #   \n",
            "=================================================================\n",
            "conv2d_266 (Conv2D)          (None, 26, 26, 5)         50        \n",
            "_________________________________________________________________\n",
            "dropout_12 (Dropout)         (None, 26, 26, 5)         0         \n",
            "_________________________________________________________________\n",
            "conv2d_267 (Conv2D)          (None, 24, 24, 10)        460       \n",
            "_________________________________________________________________\n",
            "dropout_13 (Dropout)         (None, 24, 24, 10)        0         \n",
            "_________________________________________________________________\n",
            "conv2d_268 (Conv2D)          (None, 22, 22, 20)        1820      \n",
            "_________________________________________________________________\n",
            "max_pooling2d_38 (MaxPooling (None, 11, 11, 20)        0         \n",
            "_________________________________________________________________\n",
            "conv2d_269 (Conv2D)          (None, 11, 11, 5)         105       \n",
            "_________________________________________________________________\n",
            "dropout_14 (Dropout)         (None, 11, 11, 5)         0         \n",
            "_________________________________________________________________\n",
            "conv2d_270 (Conv2D)          (None, 9, 9, 10)          460       \n",
            "_________________________________________________________________\n",
            "dropout_15 (Dropout)         (None, 9, 9, 10)          0         \n",
            "_________________________________________________________________\n",
            "conv2d_271 (Conv2D)          (None, 7, 7, 22)          2002      \n",
            "_________________________________________________________________\n",
            "dropout_16 (Dropout)         (None, 7, 7, 22)          0         \n",
            "_________________________________________________________________\n",
            "conv2d_272 (Conv2D)          (None, 5, 5, 25)          4975      \n",
            "_________________________________________________________________\n",
            "dropout_17 (Dropout)         (None, 5, 5, 25)          0         \n",
            "_________________________________________________________________\n",
            "conv2d_273 (Conv2D)          (None, 3, 3, 30)          6780      \n",
            "_________________________________________________________________\n",
            "dropout_18 (Dropout)         (None, 3, 3, 30)          0         \n",
            "_________________________________________________________________\n",
            "conv2d_274 (Conv2D)          (None, 1, 1, 10)          2710      \n",
            "_________________________________________________________________\n",
            "dropout_19 (Dropout)         (None, 1, 1, 10)          0         \n",
            "_________________________________________________________________\n",
            "flatten_25 (Flatten)         (None, 10)                0         \n",
            "_________________________________________________________________\n",
            "activation_18 (Activation)   (None, 10)                0         \n",
            "=================================================================\n",
            "Total params: 19,362\n",
            "Trainable params: 19,362\n",
            "Non-trainable params: 0\n",
            "_________________________________________________________________\n"
          ],
          "name": "stdout"
        }
      ]
    },
    {
      "cell_type": "code",
      "metadata": {
        "id": "hmcAJ548KggD",
        "colab_type": "code",
        "colab": {}
      },
      "source": [
        "model_1.compile(loss='categorical_crossentropy',\n",
        "             optimizer='adam',\n",
        "             metrics=['accuracy'])"
      ],
      "execution_count": 0,
      "outputs": []
    },
    {
      "cell_type": "code",
      "metadata": {
        "id": "CuzgJjUhL-J5",
        "colab_type": "code",
        "outputId": "9ea7e95a-3566-4206-ca93-7883c497cc32",
        "colab": {
          "base_uri": "https://localhost:8080/",
          "height": 748
        }
      },
      "source": [
        "model_1.fit(X_train, Y_train, batch_size=32, nb_epoch=20, verbose=1)"
      ],
      "execution_count": 0,
      "outputs": [
        {
          "output_type": "stream",
          "text": [
            "/usr/local/lib/python3.6/dist-packages/ipykernel_launcher.py:1: UserWarning: The `nb_epoch` argument in `fit` has been renamed `epochs`.\n",
            "  \"\"\"Entry point for launching an IPython kernel.\n"
          ],
          "name": "stderr"
        },
        {
          "output_type": "stream",
          "text": [
            "Epoch 1/20\n",
            "60000/60000 [==============================] - 19s 317us/step - loss: 0.6925 - acc: 0.7465\n",
            "Epoch 2/20\n",
            "60000/60000 [==============================] - 16s 267us/step - loss: 0.3975 - acc: 0.8364\n",
            "Epoch 3/20\n",
            "60000/60000 [==============================] - 16s 268us/step - loss: 0.3464 - acc: 0.8520\n",
            "Epoch 4/20\n",
            "60000/60000 [==============================] - 16s 265us/step - loss: 0.3233 - acc: 0.8583\n",
            "Epoch 5/20\n",
            "60000/60000 [==============================] - 16s 266us/step - loss: 0.3044 - acc: 0.8620\n",
            "Epoch 6/20\n",
            "60000/60000 [==============================] - 17s 281us/step - loss: 0.2978 - acc: 0.8639\n",
            "Epoch 7/20\n",
            "60000/60000 [==============================] - 16s 264us/step - loss: 0.2888 - acc: 0.8662\n",
            "Epoch 8/20\n",
            "60000/60000 [==============================] - 16s 264us/step - loss: 0.2849 - acc: 0.8670\n",
            "Epoch 9/20\n",
            "60000/60000 [==============================] - 16s 264us/step - loss: 0.2776 - acc: 0.8677\n",
            "Epoch 10/20\n",
            "60000/60000 [==============================] - 16s 265us/step - loss: 0.2774 - acc: 0.8695\n",
            "Epoch 11/20\n",
            "60000/60000 [==============================] - 17s 281us/step - loss: 0.2709 - acc: 0.8712\n",
            "Epoch 12/20\n",
            "60000/60000 [==============================] - 16s 270us/step - loss: 0.2742 - acc: 0.8679\n",
            "Epoch 13/20\n",
            "60000/60000 [==============================] - 16s 263us/step - loss: 0.2728 - acc: 0.8702\n",
            "Epoch 14/20\n",
            "60000/60000 [==============================] - 16s 264us/step - loss: 0.2697 - acc: 0.8710\n",
            "Epoch 15/20\n",
            "60000/60000 [==============================] - 16s 263us/step - loss: 0.2668 - acc: 0.8716\n",
            "Epoch 16/20\n",
            "60000/60000 [==============================] - 17s 280us/step - loss: 0.2687 - acc: 0.8708\n",
            "Epoch 17/20\n",
            "60000/60000 [==============================] - 17s 281us/step - loss: 0.2613 - acc: 0.8729\n",
            "Epoch 18/20\n",
            "60000/60000 [==============================] - 18s 295us/step - loss: 0.2637 - acc: 0.8711\n",
            "Epoch 19/20\n",
            "60000/60000 [==============================] - 16s 273us/step - loss: 0.2600 - acc: 0.8734\n",
            "Epoch 20/20\n",
            "60000/60000 [==============================] - 16s 264us/step - loss: 0.2570 - acc: 0.8731\n"
          ],
          "name": "stdout"
        },
        {
          "output_type": "execute_result",
          "data": {
            "text/plain": [
              "<keras.callbacks.History at 0x7fafe1238be0>"
            ]
          },
          "metadata": {
            "tags": []
          },
          "execution_count": 117
        }
      ]
    },
    {
      "cell_type": "code",
      "metadata": {
        "id": "hToOqNkQKgp8",
        "colab_type": "code",
        "colab": {}
      },
      "source": [
        "score = model_1.evaluate(X_test, Y_test, verbose=0)"
      ],
      "execution_count": 0,
      "outputs": []
    },
    {
      "cell_type": "code",
      "metadata": {
        "id": "QWiKmds9Kgz2",
        "colab_type": "code",
        "outputId": "4f5f3cf5-55aa-4f54-e83c-27c05dd8de83",
        "colab": {
          "base_uri": "https://localhost:8080/",
          "height": 34
        }
      },
      "source": [
        "print(score)"
      ],
      "execution_count": 0,
      "outputs": [
        {
          "output_type": "stream",
          "text": [
            "[0.037257918475173936, 0.9905]\n"
          ],
          "name": "stdout"
        }
      ]
    },
    {
      "cell_type": "code",
      "metadata": {
        "id": "JlX3rnGMKg7U",
        "colab_type": "code",
        "colab": {}
      },
      "source": [
        "y_pred = model_1.predict(X_test)"
      ],
      "execution_count": 0,
      "outputs": []
    },
    {
      "cell_type": "code",
      "metadata": {
        "id": "Lwwe7gYmKhHt",
        "colab_type": "code",
        "outputId": "138a07ce-57d9-46a6-dab8-8928fe6d0621",
        "colab": {
          "base_uri": "https://localhost:8080/",
          "height": 493
        }
      },
      "source": [
        "print(y_pred[:9])\n",
        "print(y_test[:9])"
      ],
      "execution_count": 0,
      "outputs": [
        {
          "output_type": "stream",
          "text": [
            "[[9.08929236e-13 4.72785311e-10 1.45832235e-08 4.58993465e-09\n",
            "  1.83453877e-10 7.88960952e-10 6.71356587e-20 1.00000000e+00\n",
            "  1.67493908e-09 1.32312286e-08]\n",
            " [2.34417055e-08 1.03273337e-07 9.99999404e-01 9.06857651e-13\n",
            "  1.65657169e-12 1.20222679e-10 4.96619577e-07 4.98815941e-14\n",
            "  8.29565805e-10 2.41724568e-15]\n",
            " [3.97095957e-14 1.00000000e+00 1.03691333e-09 4.24260778e-13\n",
            "  4.28234323e-11 2.66687410e-12 1.18775597e-11 1.36219380e-09\n",
            "  1.49185067e-10 4.73260276e-12]\n",
            " [9.99991179e-01 1.79993548e-10 1.65402305e-08 1.72064691e-08\n",
            "  7.28279090e-08 2.14020048e-07 8.21615595e-06 1.14355565e-08\n",
            "  7.20266797e-08 2.33729281e-07]\n",
            " [8.60228772e-13 3.06907616e-14 4.88255270e-12 2.35064806e-14\n",
            "  1.00000000e+00 5.92734466e-13 1.37812331e-11 2.41630132e-12\n",
            "  1.18583934e-10 4.34022907e-09]\n",
            " [6.97260175e-14 1.00000000e+00 5.26658106e-10 3.14730447e-13\n",
            "  6.97875993e-11 2.87123537e-12 9.75224849e-12 1.73096082e-09\n",
            "  2.31966266e-10 1.43573009e-11]\n",
            " [2.74949898e-12 4.74853179e-09 6.81077283e-09 4.70605048e-11\n",
            "  9.99997854e-01 3.29252431e-10 8.75503446e-13 1.78769710e-08\n",
            "  1.70559690e-06 4.84535292e-07]\n",
            " [4.69364295e-06 6.21991063e-08 8.89940384e-06 6.63925603e-05\n",
            "  1.68037182e-03 8.44280221e-05 9.57498060e-07 1.97615955e-05\n",
            "  2.02772906e-04 9.97931600e-01]\n",
            " [2.32010134e-05 8.70062067e-08 5.49070762e-07 8.16465331e-07\n",
            "  1.26284959e-07 9.76387620e-01 1.82745196e-02 6.87071292e-07\n",
            "  5.29912859e-03 1.32494515e-05]]\n",
            "[7 2 1 0 4 1 4 9 5]\n"
          ],
          "name": "stdout"
        }
      ]
    },
    {
      "cell_type": "markdown",
      "metadata": {
        "id": "4-QfDDT73BqZ",
        "colab_type": "text"
      },
      "source": [
        "Part 3  - used Batch Normalization after every Covolutional layer to normalize the data            \n",
        "Info -:Batch Normalization generally adds tune two parameters (subtract batch mean and divide with batch standard deviation and SGD optimizer is to recover it by adding and multiplying the same because after batch normalization the weights are no longer optimal)."
      ]
    },
    {
      "cell_type": "code",
      "metadata": {
        "id": "eGu3eoaVzFRY",
        "colab_type": "code",
        "outputId": "f0f269bc-54bf-4bf5-f5f4-3ff1f0907d8f",
        "colab": {
          "base_uri": "https://localhost:8080/",
          "height": 207
        }
      },
      "source": [
        "from keras import optimizers\n",
        "from keras.layers.normalization import BatchNormalization\n",
        "from keras.layers import Activation\n",
        "model2 = Sequential()\n",
        "\n",
        "#keras.layers.normalization.BatchNormalization(epsilon=1e-06, mode=0, momentum=0.9, weights=None) #input - conv - receptive feild\n",
        "\n",
        "\n",
        "model2.add(Convolution2D(5, 3, 3, activation='relu', input_shape=(28,28,1)))      #28x28 -3x3 -26x26\n",
        "model2.add(BatchNormalization())\n",
        "model2.add(Convolution2D(10, 3, 3, activation='relu'))                             #26x26 - 5x5 - 24x24\n",
        "model2.add(BatchNormalization())\n",
        "model2.add(Convolution2D(20, 3, 3, activation='relu'))                            #24x24 - 7x7 -22x22\n",
        "model2.add(BatchNormalization())\n",
        "model2.add(MaxPooling2D(pool_size=(2,2)))                                         \n",
        "model2.add(Convolution2D(5, 1, activation='relu'))                                #11x11 -  14x14 \n",
        "model2.add(BatchNormalization())\n",
        "model2.add(Convolution2D(10,3,3, activation='relu'))                                #11x11  16x16 \n",
        "model2.add(BatchNormalization())\n",
        "model2.add(Convolution2D(22,3,3, activation='relu'))                                #9x9  18x18   \n",
        "model2.add(BatchNormalization())\n",
        "model2.add(Convolution2D(25,3,3,activation='relu'))                                #7x7 -    20x20\n",
        "model2.add(BatchNormalization())\n",
        "model2.add(Convolution2D(30,3,3,activation='relu'))                                #5x5 -    22x22\n",
        "model2.add(BatchNormalization())\n",
        "#model1.add(Convolution2D(10,3,3,activation='relu'))\n",
        "model2.add(Convolution2D(10,3))\n",
        "model2.add(Dropout(0.2))\n",
        "sgd = optimizers.SGD(lr=0.01, momentum=0.8, decay=0.0, nesterov=False)\n",
        "#model.add(Convolution2D(10, 26))\n",
        "model2.add(Flatten())\n",
        "model2.add(Activation('softmax'))"
      ],
      "execution_count": 0,
      "outputs": [
        {
          "output_type": "stream",
          "text": [
            "/usr/local/lib/python3.6/dist-packages/ipykernel_launcher.py:9: UserWarning: Update your `Conv2D` call to the Keras 2 API: `Conv2D(5, (3, 3), activation=\"relu\", input_shape=(28, 28, 1...)`\n",
            "  if __name__ == '__main__':\n",
            "/usr/local/lib/python3.6/dist-packages/ipykernel_launcher.py:11: UserWarning: Update your `Conv2D` call to the Keras 2 API: `Conv2D(10, (3, 3), activation=\"relu\")`\n",
            "  # This is added back by InteractiveShellApp.init_path()\n",
            "/usr/local/lib/python3.6/dist-packages/ipykernel_launcher.py:13: UserWarning: Update your `Conv2D` call to the Keras 2 API: `Conv2D(20, (3, 3), activation=\"relu\")`\n",
            "  del sys.path[0]\n",
            "/usr/local/lib/python3.6/dist-packages/ipykernel_launcher.py:18: UserWarning: Update your `Conv2D` call to the Keras 2 API: `Conv2D(10, (3, 3), activation=\"relu\")`\n",
            "/usr/local/lib/python3.6/dist-packages/ipykernel_launcher.py:20: UserWarning: Update your `Conv2D` call to the Keras 2 API: `Conv2D(22, (3, 3), activation=\"relu\")`\n",
            "/usr/local/lib/python3.6/dist-packages/ipykernel_launcher.py:22: UserWarning: Update your `Conv2D` call to the Keras 2 API: `Conv2D(25, (3, 3), activation=\"relu\")`\n",
            "/usr/local/lib/python3.6/dist-packages/ipykernel_launcher.py:24: UserWarning: Update your `Conv2D` call to the Keras 2 API: `Conv2D(30, (3, 3), activation=\"relu\")`\n"
          ],
          "name": "stderr"
        }
      ]
    },
    {
      "cell_type": "code",
      "metadata": {
        "id": "Y30_2SYWzFLN",
        "colab_type": "code",
        "outputId": "9c97e741-83be-4e18-8b9c-07073dc225f1",
        "colab": {
          "base_uri": "https://localhost:8080/",
          "height": 850
        }
      },
      "source": [
        "model2.summary()"
      ],
      "execution_count": 0,
      "outputs": [
        {
          "output_type": "stream",
          "text": [
            "_________________________________________________________________\n",
            "Layer (type)                 Output Shape              Param #   \n",
            "=================================================================\n",
            "conv2d_248 (Conv2D)          (None, 26, 26, 5)         50        \n",
            "_________________________________________________________________\n",
            "batch_normalization_10 (Batc (None, 26, 26, 5)         20        \n",
            "_________________________________________________________________\n",
            "conv2d_249 (Conv2D)          (None, 24, 24, 10)        460       \n",
            "_________________________________________________________________\n",
            "batch_normalization_11 (Batc (None, 24, 24, 10)        40        \n",
            "_________________________________________________________________\n",
            "conv2d_250 (Conv2D)          (None, 22, 22, 20)        1820      \n",
            "_________________________________________________________________\n",
            "batch_normalization_12 (Batc (None, 22, 22, 20)        80        \n",
            "_________________________________________________________________\n",
            "max_pooling2d_36 (MaxPooling (None, 11, 11, 20)        0         \n",
            "_________________________________________________________________\n",
            "conv2d_251 (Conv2D)          (None, 11, 11, 5)         105       \n",
            "_________________________________________________________________\n",
            "batch_normalization_13 (Batc (None, 11, 11, 5)         20        \n",
            "_________________________________________________________________\n",
            "conv2d_252 (Conv2D)          (None, 9, 9, 10)          460       \n",
            "_________________________________________________________________\n",
            "batch_normalization_14 (Batc (None, 9, 9, 10)          40        \n",
            "_________________________________________________________________\n",
            "conv2d_253 (Conv2D)          (None, 7, 7, 22)          2002      \n",
            "_________________________________________________________________\n",
            "batch_normalization_15 (Batc (None, 7, 7, 22)          88        \n",
            "_________________________________________________________________\n",
            "conv2d_254 (Conv2D)          (None, 5, 5, 25)          4975      \n",
            "_________________________________________________________________\n",
            "batch_normalization_16 (Batc (None, 5, 5, 25)          100       \n",
            "_________________________________________________________________\n",
            "conv2d_255 (Conv2D)          (None, 3, 3, 30)          6780      \n",
            "_________________________________________________________________\n",
            "batch_normalization_17 (Batc (None, 3, 3, 30)          120       \n",
            "_________________________________________________________________\n",
            "conv2d_256 (Conv2D)          (None, 1, 1, 10)          2710      \n",
            "_________________________________________________________________\n",
            "dropout_3 (Dropout)          (None, 1, 1, 10)          0         \n",
            "_________________________________________________________________\n",
            "flatten_23 (Flatten)         (None, 10)                0         \n",
            "_________________________________________________________________\n",
            "activation_16 (Activation)   (None, 10)                0         \n",
            "=================================================================\n",
            "Total params: 19,870\n",
            "Trainable params: 19,616\n",
            "Non-trainable params: 254\n",
            "_________________________________________________________________\n"
          ],
          "name": "stdout"
        }
      ]
    },
    {
      "cell_type": "code",
      "metadata": {
        "id": "icmSyKttzE_e",
        "colab_type": "code",
        "colab": {}
      },
      "source": [
        "model2.compile(loss='categorical_crossentropy',\n",
        "             optimizer='adam',\n",
        "             metrics=['accuracy'])"
      ],
      "execution_count": 0,
      "outputs": []
    },
    {
      "cell_type": "code",
      "metadata": {
        "id": "NNn1HpZZzE51",
        "colab_type": "code",
        "outputId": "6cec6881-3ae9-4a66-ea94-9bff65546b40",
        "colab": {
          "base_uri": "https://localhost:8080/",
          "height": 748
        }
      },
      "source": [
        "model2.fit(X_train, Y_train, batch_size=32, nb_epoch=20, verbose=1)"
      ],
      "execution_count": 0,
      "outputs": [
        {
          "output_type": "stream",
          "text": [
            "/usr/local/lib/python3.6/dist-packages/ipykernel_launcher.py:1: UserWarning: The `nb_epoch` argument in `fit` has been renamed `epochs`.\n",
            "  \"\"\"Entry point for launching an IPython kernel.\n"
          ],
          "name": "stderr"
        },
        {
          "output_type": "stream",
          "text": [
            "Epoch 1/20\n",
            "60000/60000 [==============================] - 29s 479us/step - loss: 0.4453 - acc: 0.8210\n",
            "Epoch 2/20\n",
            "60000/60000 [==============================] - 26s 428us/step - loss: 0.2657 - acc: 0.8700\n",
            "Epoch 3/20\n",
            "60000/60000 [==============================] - 26s 425us/step - loss: 0.2496 - acc: 0.8761\n",
            "Epoch 4/20\n",
            "60000/60000 [==============================] - 28s 461us/step - loss: 0.2410 - acc: 0.8773\n",
            "Epoch 5/20\n",
            "60000/60000 [==============================] - 25s 425us/step - loss: 0.2325 - acc: 0.8798\n",
            "Epoch 6/20\n",
            "60000/60000 [==============================] - 25s 424us/step - loss: 0.2260 - acc: 0.8821\n",
            "Epoch 7/20\n",
            "60000/60000 [==============================] - 26s 440us/step - loss: 0.2263 - acc: 0.8795\n",
            "Epoch 8/20\n",
            "60000/60000 [==============================] - 25s 424us/step - loss: 0.2220 - acc: 0.8798\n",
            "Epoch 9/20\n",
            "60000/60000 [==============================] - 26s 429us/step - loss: 0.2199 - acc: 0.8798\n",
            "Epoch 10/20\n",
            "60000/60000 [==============================] - 27s 442us/step - loss: 0.2127 - acc: 0.8832\n",
            "Epoch 11/20\n",
            "60000/60000 [==============================] - 26s 428us/step - loss: 0.2103 - acc: 0.8850\n",
            "Epoch 12/20\n",
            "60000/60000 [==============================] - 26s 431us/step - loss: 0.2109 - acc: 0.8853\n",
            "Epoch 13/20\n",
            "60000/60000 [==============================] - 27s 444us/step - loss: 0.2097 - acc: 0.8848\n",
            "Epoch 14/20\n",
            "60000/60000 [==============================] - 26s 432us/step - loss: 0.2069 - acc: 0.8847\n",
            "Epoch 15/20\n",
            "60000/60000 [==============================] - 26s 436us/step - loss: 0.2121 - acc: 0.8824\n",
            "Epoch 16/20\n",
            "60000/60000 [==============================] - 27s 453us/step - loss: 0.2062 - acc: 0.8845\n",
            "Epoch 17/20\n",
            "60000/60000 [==============================] - 26s 429us/step - loss: 0.2067 - acc: 0.8848\n",
            "Epoch 18/20\n",
            "60000/60000 [==============================] - 26s 429us/step - loss: 0.2040 - acc: 0.8877\n",
            "Epoch 19/20\n",
            "60000/60000 [==============================] - 27s 443us/step - loss: 0.2046 - acc: 0.8859\n",
            "Epoch 20/20\n",
            "60000/60000 [==============================] - 26s 429us/step - loss: 0.2049 - acc: 0.8848\n"
          ],
          "name": "stdout"
        },
        {
          "output_type": "execute_result",
          "data": {
            "text/plain": [
              "<keras.callbacks.History at 0x7fafe24dfa58>"
            ]
          },
          "metadata": {
            "tags": []
          },
          "execution_count": 106
        }
      ]
    },
    {
      "cell_type": "code",
      "metadata": {
        "id": "NPTllqIkzE0i",
        "colab_type": "code",
        "colab": {}
      },
      "source": [
        "score = model2.evaluate(X_test, Y_test, verbose=0)"
      ],
      "execution_count": 0,
      "outputs": []
    },
    {
      "cell_type": "code",
      "metadata": {
        "id": "sdX9QcrRHXJT",
        "colab_type": "code",
        "outputId": "ebb8533e-ffb3-439b-a714-444de0c485a1",
        "colab": {
          "base_uri": "https://localhost:8080/",
          "height": 34
        }
      },
      "source": [
        "print(score)"
      ],
      "execution_count": 0,
      "outputs": [
        {
          "output_type": "stream",
          "text": [
            "[0.04020470107627234, 0.9913]\n"
          ],
          "name": "stdout"
        }
      ]
    },
    {
      "cell_type": "code",
      "metadata": {
        "id": "ADpZMYXfHXZt",
        "colab_type": "code",
        "colab": {}
      },
      "source": [
        "y_pred = model2.predict(X_test)"
      ],
      "execution_count": 0,
      "outputs": []
    },
    {
      "cell_type": "code",
      "metadata": {
        "id": "ZST4EoRkHXfv",
        "colab_type": "code",
        "outputId": "16ccda13-5e7b-4ba4-b323-d20d62c11167",
        "colab": {
          "base_uri": "https://localhost:8080/",
          "height": 493
        }
      },
      "source": [
        "print(y_pred[:9])\n",
        "print(y_test[:9])"
      ],
      "execution_count": 0,
      "outputs": [
        {
          "output_type": "stream",
          "text": [
            "[[1.52775459e-12 3.06774640e-11 9.29622265e-12 3.50096480e-11\n",
            "  2.40344168e-11 6.32406280e-12 6.06651014e-12 1.00000000e+00\n",
            "  1.22244044e-12 1.25139510e-10]\n",
            " [1.52370987e-08 2.08652406e-09 1.00000000e+00 1.03946316e-14\n",
            "  1.86141966e-12 8.84540176e-14 4.46989147e-11 1.87546888e-11\n",
            "  1.34198451e-11 3.20063962e-12]\n",
            " [7.43676428e-14 1.00000000e+00 1.00312304e-12 1.12977176e-10\n",
            "  9.14752562e-12 1.81457193e-12 4.25141049e-14 9.11750508e-10\n",
            "  2.91213754e-12 6.08949913e-12]\n",
            " [1.00000000e+00 5.74945785e-11 9.86461801e-10 1.20253946e-10\n",
            "  8.65470540e-09 7.64900143e-10 2.71010547e-09 5.38383893e-10\n",
            "  1.24952360e-09 2.97138453e-10]\n",
            " [9.82053328e-11 1.25378666e-10 2.39727127e-10 6.32847039e-11\n",
            "  1.00000000e+00 5.45740779e-11 7.10001558e-10 2.84643077e-12\n",
            "  6.64933907e-12 5.46108603e-10]\n",
            " [7.21216367e-15 1.00000000e+00 3.44254248e-14 2.46914295e-12\n",
            "  7.21096089e-13 4.64104395e-14 1.80309407e-15 7.27756744e-11\n",
            "  2.83020460e-13 3.69470622e-13]\n",
            " [2.60744759e-10 4.12178309e-07 2.70809579e-07 1.02217568e-08\n",
            "  9.99951482e-01 1.07537232e-08 1.50543702e-08 1.21367336e-07\n",
            "  3.19447026e-05 1.57044833e-05]\n",
            " [1.37955133e-10 2.54880250e-09 6.92514419e-08 1.43710055e-09\n",
            "  2.42111423e-06 8.87253049e-11 1.86516080e-12 3.72486153e-09\n",
            "  4.68210359e-09 9.99997497e-01]\n",
            " [4.93818710e-08 5.16807361e-08 1.04797199e-10 2.55314381e-10\n",
            "  6.34676269e-07 9.90252018e-01 9.74711217e-03 1.15555734e-08\n",
            "  1.74863359e-07 8.20330415e-10]]\n",
            "[7 2 1 0 4 1 4 9 5]\n"
          ],
          "name": "stdout"
        }
      ]
    },
    {
      "cell_type": "code",
      "metadata": {
        "id": "Dizw3jU8HXl3",
        "colab_type": "code",
        "colab": {}
      },
      "source": [
        ""
      ],
      "execution_count": 0,
      "outputs": []
    },
    {
      "cell_type": "code",
      "metadata": {
        "id": "Jdpy-k4tHXsK",
        "colab_type": "code",
        "colab": {}
      },
      "source": [
        ""
      ],
      "execution_count": 0,
      "outputs": []
    },
    {
      "cell_type": "code",
      "metadata": {
        "id": "T45TmR19HXYc",
        "colab_type": "code",
        "colab": {}
      },
      "source": [
        ""
      ],
      "execution_count": 0,
      "outputs": []
    }
  ]
}